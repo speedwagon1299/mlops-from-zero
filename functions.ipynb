{
  "nbformat": 4,
  "nbformat_minor": 0,
  "metadata": {
    "colab": {
      "provenance": [],
      "authorship_tag": "ABX9TyNWSEZKHg/7VQ96XGiCg3jJ",
      "include_colab_link": true
    },
    "kernelspec": {
      "name": "python3",
      "display_name": "Python 3"
    },
    "language_info": {
      "name": "python"
    }
  },
  "cells": [
    {
      "cell_type": "markdown",
      "metadata": {
        "id": "view-in-github",
        "colab_type": "text"
      },
      "source": [
        "<a href=\"https://colab.research.google.com/github/speedwagon1299/mlops-from-zero/blob/main/functions.ipynb\" target=\"_parent\"><img src=\"https://colab.research.google.com/assets/colab-badge.svg\" alt=\"Open In Colab\"/></a>"
      ]
    },
    {
      "cell_type": "code",
      "execution_count": 1,
      "metadata": {
        "id": "L9eExL3UjVkQ"
      },
      "outputs": [],
      "source": [
        "def my_worker(fruit):\n",
        "    statement = f'My favourite fruit is {fruit}'\n",
        "    meals = {'dinner': statement}\n",
        "    return meals"
      ]
    },
    {
      "cell_type": "code",
      "source": [
        "meal = my_worker('apple')"
      ],
      "metadata": {
        "id": "f_Xj8Az1jmDn"
      },
      "execution_count": 2,
      "outputs": []
    },
    {
      "cell_type": "code",
      "source": [
        "type(meal)"
      ],
      "metadata": {
        "colab": {
          "base_uri": "https://localhost:8080/"
        },
        "id": "7tlBI1POjp_4",
        "outputId": "bf44b220-5b7a-43bd-dade-89c53d81b435"
      },
      "execution_count": 3,
      "outputs": [
        {
          "output_type": "execute_result",
          "data": {
            "text/plain": [
              "dict"
            ]
          },
          "metadata": {},
          "execution_count": 3
        }
      ]
    },
    {
      "cell_type": "code",
      "source": [
        "print(f'{meal.items()}')"
      ],
      "metadata": {
        "colab": {
          "base_uri": "https://localhost:8080/"
        },
        "id": "o_E7u0tFjsPT",
        "outputId": "0a361578-2328-4916-da86-97a9d6367b7f"
      },
      "execution_count": 4,
      "outputs": [
        {
          "output_type": "stream",
          "name": "stdout",
          "text": [
            "dict_items([('dinner', 'My favourite fruit is apple')])\n"
          ]
        }
      ]
    },
    {
      "cell_type": "code",
      "source": [
        "def human(food):\n",
        "    consume = food['dinner']\n",
        "    return consume"
      ],
      "metadata": {
        "id": "x3JJDmtEjzk-"
      },
      "execution_count": 5,
      "outputs": []
    },
    {
      "cell_type": "code",
      "source": [
        "my_meal = human(meal)\n",
        "print(f'I want my meal. {my_meal}')"
      ],
      "metadata": {
        "colab": {
          "base_uri": "https://localhost:8080/"
        },
        "id": "L8FqO4CZj5Yi",
        "outputId": "255c92b6-554f-4c2a-c186-5eb819d98f02"
      },
      "execution_count": 8,
      "outputs": [
        {
          "output_type": "stream",
          "name": "stdout",
          "text": [
            "I want my meal. My favourite fruit is apple\n"
          ]
        }
      ]
    },
    {
      "cell_type": "code",
      "source": [],
      "metadata": {
        "id": "PqYeKW89j7nh"
      },
      "execution_count": null,
      "outputs": []
    }
  ]
}